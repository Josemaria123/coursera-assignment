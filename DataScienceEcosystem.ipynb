{
    "cells": [
        {
            "metadata": {},
            "cell_type": "markdown",
            "source": "# Data Science Tools and Ecosystem"
        },
        {
            "metadata": {},
            "cell_type": "markdown",
            "source": "## Author: \nJosemaria Saldias"
        },
        {
            "metadata": {},
            "cell_type": "markdown",
            "source": "In this notebook, Data Science Tools and Ecosystem are summarized.\n"
        },
        {
            "metadata": {},
            "cell_type": "markdown",
            "source": "**Objectives:**\n\n<ul>\n    <li>List popular languages for Data Science</li>\n    <li>List popular libraries for Data Science</li>\n    <li>Apply arithmetics operations on this notebook</li>\n\n</ul>"
        },
        {
            "metadata": {},
            "cell_type": "markdown",
            "source": "Some of the popular languages that Data Scientists use are: \n\n<ol>\n    <li>Python</li>\n    <li>R</li>\n    <li>SQL</li>\n    <li>Scala</li>\n    <li>Julia</li>\n</ol>"
        },
        {
            "metadata": {},
            "cell_type": "markdown",
            "source": "Some of the commonly used libraries used by Data Scientists include: \n\n<ol>\n    <li>Pandas</li>\n    <li>Numpy</li>\n    <li>Maplotlib</li>\n    <li>Seaborn</li>\n</ol>\n"
        },
        {
            "metadata": {},
            "cell_type": "markdown",
            "source": "| Data Science Tools   |\n|---------|\n| Apache Zepellin  |\n| RStudio     |\n| Jupyter |"
        },
        {
            "metadata": {},
            "cell_type": "markdown",
            "source": "*I am interested in data science because I want to get insights of data to capture valuable information and tell a story about the discoveries*"
        },
        {
            "metadata": {},
            "cell_type": "markdown",
            "source": "### Below are a few examples of evaluating arithmetic expressions in Python"
        },
        {
            "metadata": {},
            "cell_type": "code",
            "source": "1+1",
            "execution_count": 1,
            "outputs": [
                {
                    "output_type": "execute_result",
                    "execution_count": 1,
                    "data": {
                        "text/plain": "2"
                    },
                    "metadata": {}
                }
            ]
        },
        {
            "metadata": {},
            "cell_type": "code",
            "source": "# This a simple arithmetic expression to mutiply then add integers\n(3*4)+5",
            "execution_count": 5,
            "outputs": [
                {
                    "output_type": "execute_result",
                    "execution_count": 5,
                    "data": {
                        "text/plain": "17"
                    },
                    "metadata": {}
                }
            ]
        },
        {
            "metadata": {},
            "cell_type": "markdown",
            "source": "This will convert 60 minutes to hours by diving by 60"
        },
        {
            "metadata": {},
            "cell_type": "code",
            "source": "# This will convert 200 minutes to hours by diving by 60\nminutes = 200\nhours = minutes/60\nprint(hours)",
            "execution_count": 6,
            "outputs": [
                {
                    "output_type": "stream",
                    "text": "3.3333333333333335\n",
                    "name": "stdout"
                }
            ]
        }
    ],
    "metadata": {
        "kernelspec": {
            "name": "python3",
            "display_name": "Python 3.10",
            "language": "python"
        },
        "language_info": {
            "name": "python",
            "version": "3.10.6",
            "mimetype": "text/x-python",
            "codemirror_mode": {
                "name": "ipython",
                "version": 3
            },
            "pygments_lexer": "ipython3",
            "nbconvert_exporter": "python",
            "file_extension": ".py"
        }
    },
    "nbformat": 4,
    "nbformat_minor": 1
}